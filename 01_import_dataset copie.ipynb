{
 "cells": [
  {
   "cell_type": "code",
   "execution_count": 2,
   "metadata": {},
   "outputs": [],
   "source": [
    "# https://towardsdatascience.com/tf-idf-for-document-ranking-from-scratch-in-python-on-real-world-dataset-796d339a4089\n",
    "from datetime import datetime\n",
    "import matplotlib.pyplot as plt\n",
    "from matplotlib.colors import Normalize\n",
    "import numpy as np\n",
    "from num2words import num2words\n",
    "import pandas as pd\n",
    "import plotly.express as px\n",
    "import plotly.figure_factory as ff\n",
    "import plotly.graph_objects as go\n",
    "import plotly.io as pio\n",
    "from plotly.subplots import make_subplots\n",
    "import re\n",
    "import seaborn as sns\n",
    "import tensorflow as tf\n",
    "from sklearn.model_selection import train_test_split\n",
    "\n",
    "import spacy\n",
    "import en_core_web_sm\n",
    "\n",
    "\n",
    "# Tfidf transformer \n",
    "from sklearn.feature_extraction.text import TfidfVectorizer\n",
    "\n",
    "#https://www.nltk.org/howto/stem.html\n",
    "from nltk.stem.porter import *\n"
   ]
  },
  {
   "cell_type": "code",
   "execution_count": 3,
   "metadata": {},
   "outputs": [
    {
     "data": {
      "text/html": [
       "<div>\n",
       "<style scoped>\n",
       "    .dataframe tbody tr th:only-of-type {\n",
       "        vertical-align: middle;\n",
       "    }\n",
       "\n",
       "    .dataframe tbody tr th {\n",
       "        vertical-align: top;\n",
       "    }\n",
       "\n",
       "    .dataframe thead th {\n",
       "        text-align: right;\n",
       "    }\n",
       "</style>\n",
       "<table border=\"1\" class=\"dataframe\">\n",
       "  <thead>\n",
       "    <tr style=\"text-align: right;\">\n",
       "      <th></th>\n",
       "      <th>id</th>\n",
       "      <th>keyword</th>\n",
       "      <th>location</th>\n",
       "      <th>text</th>\n",
       "      <th>target</th>\n",
       "    </tr>\n",
       "  </thead>\n",
       "  <tbody>\n",
       "    <tr>\n",
       "      <th>0</th>\n",
       "      <td>1</td>\n",
       "      <td>NaN</td>\n",
       "      <td>NaN</td>\n",
       "      <td>Our Deeds are the Reason of this #earthquake M...</td>\n",
       "      <td>1</td>\n",
       "    </tr>\n",
       "    <tr>\n",
       "      <th>1</th>\n",
       "      <td>4</td>\n",
       "      <td>NaN</td>\n",
       "      <td>NaN</td>\n",
       "      <td>Forest fire near La Ronge Sask. Canada</td>\n",
       "      <td>1</td>\n",
       "    </tr>\n",
       "    <tr>\n",
       "      <th>2</th>\n",
       "      <td>5</td>\n",
       "      <td>NaN</td>\n",
       "      <td>NaN</td>\n",
       "      <td>All residents asked to 'shelter in place' are ...</td>\n",
       "      <td>1</td>\n",
       "    </tr>\n",
       "    <tr>\n",
       "      <th>3</th>\n",
       "      <td>6</td>\n",
       "      <td>NaN</td>\n",
       "      <td>NaN</td>\n",
       "      <td>13,000 people receive #wildfires evacuation or...</td>\n",
       "      <td>1</td>\n",
       "    </tr>\n",
       "    <tr>\n",
       "      <th>4</th>\n",
       "      <td>7</td>\n",
       "      <td>NaN</td>\n",
       "      <td>NaN</td>\n",
       "      <td>Just got sent this photo from Ruby #Alaska as ...</td>\n",
       "      <td>1</td>\n",
       "    </tr>\n",
       "  </tbody>\n",
       "</table>\n",
       "</div>"
      ],
      "text/plain": [
       "   id keyword location                                               text  \\\n",
       "0   1     NaN      NaN  Our Deeds are the Reason of this #earthquake M...   \n",
       "1   4     NaN      NaN             Forest fire near La Ronge Sask. Canada   \n",
       "2   5     NaN      NaN  All residents asked to 'shelter in place' are ...   \n",
       "3   6     NaN      NaN  13,000 people receive #wildfires evacuation or...   \n",
       "4   7     NaN      NaN  Just got sent this photo from Ruby #Alaska as ...   \n",
       "\n",
       "   target  \n",
       "0       1  \n",
       "1       1  \n",
       "2       1  \n",
       "3       1  \n",
       "4       1  "
      ]
     },
     "execution_count": 3,
     "metadata": {},
     "output_type": "execute_result"
    }
   ],
   "source": [
    "dataset = pd.read_csv('src/train.csv')\n",
    "dataset.head(5)"
   ]
  },
  {
   "cell_type": "code",
   "execution_count": 4,
   "metadata": {},
   "outputs": [
    {
     "name": "stdout",
     "output_type": "stream",
     "text": [
      "id           0.000000\n",
      "keyword      0.801261\n",
      "location    33.272035\n",
      "text         0.000000\n",
      "target       0.000000\n",
      "dtype: float64\n"
     ]
    }
   ],
   "source": [
    "pourcentage_valeur_manquante = 100*dataset.isnull().sum()/dataset.shape[0]\n",
    "print(pourcentage_valeur_manquante)"
   ]
  },
  {
   "cell_type": "code",
   "execution_count": 5,
   "metadata": {},
   "outputs": [],
   "source": [
    "dataset = dataset.drop(columns=['id', 'location'])"
   ]
  },
  {
   "cell_type": "code",
   "execution_count": 6,
   "metadata": {},
   "outputs": [
    {
     "data": {
      "text/plain": [
       "221"
      ]
     },
     "execution_count": 6,
     "metadata": {},
     "output_type": "execute_result"
    }
   ],
   "source": [
    "dataset = dataset.dropna()\n",
    "dataset['keyword'] = [ x.replace('%20', ' ') for x in dataset['keyword']]\n",
    "len(dataset['keyword'].unique())"
   ]
  },
  {
   "cell_type": "code",
   "execution_count": 7,
   "metadata": {},
   "outputs": [
    {
     "data": {
      "text/plain": [
       "7552"
      ]
     },
     "execution_count": 7,
     "metadata": {},
     "output_type": "execute_result"
    }
   ],
   "source": [
    "len(dataset)"
   ]
  },
  {
   "cell_type": "code",
   "execution_count": 8,
   "metadata": {},
   "outputs": [
    {
     "name": "stdout",
     "output_type": "stream",
     "text": [
      "{'give', 'per', 'this', 'after', 'something', 'who', 'if', 'already', 'under', 'hereupon', 'might', 'where', 'before', 'noone', 'until', 'moreover', 'i', 'yours', 'next', 'no', 'whom', 're', 'seems', 'almost', 'is', 'eleven', 'their', 'regarding', 'be', 'among', 'them', 'towards', 'hereby', 'but', 'seemed', 'am', 'than', 'several', 'must', 'whither', 'will', 'serious', 'wherever', 'all', 'out', 'together', 'everything', 'others', 'yourself', 'thereupon', 'above', 'so', 'doing', 'of', 'just', 'its', 'toward', \"'re\", 'however', 'upon', 'few', 'everywhere', 'indeed', 'anywhere', 'thus', 'part', 'my', 'ever', 'you', 'top', 'two', 'whose', 'most', 'become', 'alone', 'see', 'formerly', '’s', 'himself', 'same', 'an', 'when', '‘d', 'sixty', 'four', 'through', 'hence', 'there', 'three', 'behind', 'unless', 'name', 'mostly', 'hereafter', 'otherwise', 'would', 'may', 'was', 'eight', '’ll', 'each', 'again', 'have', 'she', 'via', 'without', 'one', 'often', 'hers', 'below', 'meanwhile', 'became', 'please', 'did', 'for', 'somewhere', 'into', 'show', 'in', 'beforehand', 'except', 'further', 'therefore', 'go', 'even', 'by', 'they', 'also', 'side', 'nowhere', 'those', 'as', 'ca', '‘s', 'due', 'fifteen', 'made', 'everyone', 'whenever', 'say', 'nothing', 'yourselves', \"'ve\", 'once', 'former', \"'ll\", 'none', 'can', 'within', 'had', 'besides', 'your', 'here', 'mine', 'front', 'still', 'these', 'using', 'with', 'whereafter', 'throughout', 'myself', 'though', 'could', 'to', 'put', 'herein', 'namely', 'from', 'take', 'therein', 'amount', 'along', 'other', 'ours', 'seeming', 'too', 'because', 'nevertheless', 'around', 'thereby', 'more', 'whence', \"n't\", 'twelve', 'ourselves', 'neither', 'wherein', 'twenty', 'becomes', 'up', 'which', '‘ll', 'were', 'keep', 'last', 'between', 'beside', 'him', 'sometime', 'not', 'becoming', 'ten', 'herself', 'while', 'nobody', 'forty', 'seem', 'themselves', 'whole', 'some', '’m', 'cannot', 'onto', 'back', 'his', 'own', '’re', 'off', 'third', 'been', 'her', 'on', 'at', 'anything', \"'m\", 'both', 'it', 'hundred', 'what', 'are', 'least', 'someone', 'every', 'n’t', 'the', 'call', 'any', 'beyond', 'down', 'never', 'does', 'whereas', 'amongst', 'empty', 'another', 'do', 'full', 'perhaps', 'across', 'should', 'our', 'used', 'nine', 'rather', 'elsewhere', 'thence', \"'s\", 'we', 'whereupon', 'afterwards', 'against', 'itself', 'done', 'very', 'various', 'move', 'since', 'much', 'about', 'n‘t', 'less', 'somehow', 'that', 'how', 'first', 'a', 'get', 'anyhow', 'whether', 'although', 'being', 'nor', 'he', 'sometimes', 'many', 'whatever', '’d', 'latter', 'only', 'then', 'really', 'enough', 'why', 'over', '‘ve', 'six', 'whoever', 'yet', 'either', 'now', 'such', 'thru', 'me', 'anyone', 'bottom', \"'d\", '‘re', '’ve', 'during', 'else', 'always', 'or', 'us', 'whereby', 'quite', 'and', 'make', 'has', 'anyway', 'well', 'latterly', '‘m', 'five', 'fifty', 'thereafter'}\n"
     ]
    }
   ],
   "source": [
    "# https://medium.com/@yashj302/stopwords-nlp-python-4aa57dc492af\n",
    "nlp = en_core_web_sm.load()\n",
    "\n",
    "stopwords = nlp.Defaults.stop_words\n",
    "print(stopwords)\n",
    "\n",
    "def cleanStopWorld(text):\n",
    "    cleanedtext = []\n",
    "    for item in nlp(text):\n",
    "        if not item.is_stop:\n",
    "            cleanedtext.append(item.text)\n",
    "    return ' '.join(cleanedtext)\n",
    "    "
   ]
  },
  {
   "cell_type": "code",
   "execution_count": 9,
   "metadata": {},
   "outputs": [],
   "source": [
    "def eraseSingleChar(words):\n",
    "    new_text = \"\"\n",
    "    for w in list(words.split(\" \")):\n",
    "        if len(w) > 1:\n",
    "            new_text = new_text + \" \" + w\n",
    "    return new_text"
   ]
  },
  {
   "cell_type": "code",
   "execution_count": 10,
   "metadata": {},
   "outputs": [],
   "source": [
    "# convert exemple \"Player\", \"Playing\" to \"play\"\n",
    "stemmer = PorterStemmer()\n",
    "\n",
    "def stemConverter(sentence):\n",
    "    new_text = \"\"\n",
    "    for w in list(sentence.split(\" \")):\n",
    "        new_text = new_text + \" \" + stemmer.stem(w)\n",
    "    return new_text"
   ]
  },
  {
   "cell_type": "code",
   "execution_count": 11,
   "metadata": {},
   "outputs": [],
   "source": [
    "# from numbers to string \n",
    "def convert_num_to_words(utterance):\n",
    "      utterance = ' '.join([num2words.num2words(i) if i.isdigit() else i for i in utterance.split()])\n",
    "      return utterance"
   ]
  },
  {
   "cell_type": "code",
   "execution_count": 12,
   "metadata": {},
   "outputs": [],
   "source": [
    "for column in ['keyword', 'text']:\n",
    "    dataset[column] = [ np.char.lower(x) for x in dataset[column]]\n",
    "    dataset[column] = [ str(x) for x in dataset[column] ] # str check for \"numbers\"\n",
    "    dataset[column] = [ x.replace(\"\\\\/\", \"/\").encode().decode('utf-8') for x in dataset[column] ] # magic line for error byte string\n",
    "    dataset[column] = [ re.sub(r'http\\S+', '', x) for x in dataset[column] ] # delete http \n",
    "    dataset[column] = [ re.sub('[^A-Za-z0-9 ]+', '', x) for x in dataset[column] ] # delete @#$€...\n",
    "    #\n",
    "    dataset[column] = [ cleanStopWorld(x) for x in dataset[column] ] # erase stop world \n",
    "    #\n",
    "    dataset[column] = [ eraseSingleChar(x) for x in dataset[column] ] # erase isolate 2 chars\n",
    "    #\n",
    "    dataset[column] = [ stemConverter(x) for x in dataset[column] ] # convert to stem words"
   ]
  },
  {
   "cell_type": "code",
   "execution_count": 13,
   "metadata": {},
   "outputs": [],
   "source": [
    "dataset = dataset.dropna()"
   ]
  },
  {
   "cell_type": "code",
   "execution_count": 14,
   "metadata": {},
   "outputs": [],
   "source": [
    "dataset['text'] = dataset['keyword'].astype(str) + dataset['text'].astype(str)"
   ]
  },
  {
   "cell_type": "code",
   "execution_count": 15,
   "metadata": {},
   "outputs": [
    {
     "data": {
      "text/html": [
       "<div>\n",
       "<style scoped>\n",
       "    .dataframe tbody tr th:only-of-type {\n",
       "        vertical-align: middle;\n",
       "    }\n",
       "\n",
       "    .dataframe tbody tr th {\n",
       "        vertical-align: top;\n",
       "    }\n",
       "\n",
       "    .dataframe thead th {\n",
       "        text-align: right;\n",
       "    }\n",
       "</style>\n",
       "<table border=\"1\" class=\"dataframe\">\n",
       "  <thead>\n",
       "    <tr style=\"text-align: right;\">\n",
       "      <th></th>\n",
       "      <th>keyword</th>\n",
       "      <th>text</th>\n",
       "      <th>target</th>\n",
       "    </tr>\n",
       "  </thead>\n",
       "  <tbody>\n",
       "    <tr>\n",
       "      <th>31</th>\n",
       "      <td>ablaz</td>\n",
       "      <td>ablaz  bbcmtd wholesal market ablaz</td>\n",
       "      <td>1</td>\n",
       "    </tr>\n",
       "    <tr>\n",
       "      <th>32</th>\n",
       "      <td>ablaz</td>\n",
       "      <td>ablaz  tri bring heavi metal rt</td>\n",
       "      <td>0</td>\n",
       "    </tr>\n",
       "    <tr>\n",
       "      <th>33</th>\n",
       "      <td>ablaz</td>\n",
       "      <td>ablaz  africanbaz break newsnigeria flag set...</td>\n",
       "      <td>1</td>\n",
       "    </tr>\n",
       "    <tr>\n",
       "      <th>34</th>\n",
       "      <td>ablaz</td>\n",
       "      <td>ablaz  cri set ablaz</td>\n",
       "      <td>0</td>\n",
       "    </tr>\n",
       "    <tr>\n",
       "      <th>35</th>\n",
       "      <td>ablaz</td>\n",
       "      <td>ablaz  plu look sky night ablaz</td>\n",
       "      <td>0</td>\n",
       "    </tr>\n",
       "    <tr>\n",
       "      <th>...</th>\n",
       "      <td>...</td>\n",
       "      <td>...</td>\n",
       "      <td>...</td>\n",
       "    </tr>\n",
       "    <tr>\n",
       "      <th>7578</th>\n",
       "      <td>wreck</td>\n",
       "      <td>wreck  jtruff23 cameronhack wreck</td>\n",
       "      <td>0</td>\n",
       "    </tr>\n",
       "    <tr>\n",
       "      <th>7579</th>\n",
       "      <td>wreck</td>\n",
       "      <td>wreck  day work ve pretti wreck hahaha shout...</td>\n",
       "      <td>0</td>\n",
       "    </tr>\n",
       "    <tr>\n",
       "      <th>7580</th>\n",
       "      <td>wreck</td>\n",
       "      <td>wreck  fx forex trade cramer iger word wreck...</td>\n",
       "      <td>0</td>\n",
       "    </tr>\n",
       "    <tr>\n",
       "      <th>7581</th>\n",
       "      <td>wreck</td>\n",
       "      <td>wreck  enginesh great atmospher british lion...</td>\n",
       "      <td>0</td>\n",
       "    </tr>\n",
       "    <tr>\n",
       "      <th>7582</th>\n",
       "      <td>wreck</td>\n",
       "      <td>wreck  cramer iger word wreck disney stock cnbc</td>\n",
       "      <td>0</td>\n",
       "    </tr>\n",
       "  </tbody>\n",
       "</table>\n",
       "<p>7552 rows × 3 columns</p>\n",
       "</div>"
      ],
      "text/plain": [
       "      keyword                                               text  target\n",
       "31      ablaz                ablaz  bbcmtd wholesal market ablaz       1\n",
       "32      ablaz                    ablaz  tri bring heavi metal rt       0\n",
       "33      ablaz    ablaz  africanbaz break newsnigeria flag set...       1\n",
       "34      ablaz                               ablaz  cri set ablaz       0\n",
       "35      ablaz                    ablaz  plu look sky night ablaz       0\n",
       "...       ...                                                ...     ...\n",
       "7578    wreck                  wreck  jtruff23 cameronhack wreck       0\n",
       "7579    wreck    wreck  day work ve pretti wreck hahaha shout...       0\n",
       "7580    wreck    wreck  fx forex trade cramer iger word wreck...       0\n",
       "7581    wreck    wreck  enginesh great atmospher british lion...       0\n",
       "7582    wreck    wreck  cramer iger word wreck disney stock cnbc       0\n",
       "\n",
       "[7552 rows x 3 columns]"
      ]
     },
     "execution_count": 15,
     "metadata": {},
     "output_type": "execute_result"
    }
   ],
   "source": [
    "dataset"
   ]
  },
  {
   "cell_type": "code",
   "execution_count": 16,
   "metadata": {},
   "outputs": [],
   "source": [
    "tokenizer = tf.keras.preprocessing.text.Tokenizer(num_words=1000, oov_token=\"out_of_vocab\") # instanciate the tokenizer\n",
    "tokenizer.fit_on_texts(dataset.text)\n",
    "dataset[\"text_encoded\"] = tokenizer.texts_to_sequences(dataset.text)"
   ]
  },
  {
   "cell_type": "code",
   "execution_count": 17,
   "metadata": {},
   "outputs": [
    {
     "data": {
      "text/html": [
       "<div>\n",
       "<style scoped>\n",
       "    .dataframe tbody tr th:only-of-type {\n",
       "        vertical-align: middle;\n",
       "    }\n",
       "\n",
       "    .dataframe tbody tr th {\n",
       "        vertical-align: top;\n",
       "    }\n",
       "\n",
       "    .dataframe thead th {\n",
       "        text-align: right;\n",
       "    }\n",
       "</style>\n",
       "<table border=\"1\" class=\"dataframe\">\n",
       "  <thead>\n",
       "    <tr style=\"text-align: right;\">\n",
       "      <th></th>\n",
       "      <th>keyword</th>\n",
       "      <th>text</th>\n",
       "      <th>target</th>\n",
       "      <th>text_encoded</th>\n",
       "    </tr>\n",
       "  </thead>\n",
       "  <tbody>\n",
       "    <tr>\n",
       "      <th>31</th>\n",
       "      <td>ablaz</td>\n",
       "      <td>ablaz  bbcmtd wholesal market ablaz</td>\n",
       "      <td>1</td>\n",
       "      <td>[213, 1, 1, 310, 213]</td>\n",
       "    </tr>\n",
       "    <tr>\n",
       "      <th>32</th>\n",
       "      <td>ablaz</td>\n",
       "      <td>ablaz  tri bring heavi metal rt</td>\n",
       "      <td>0</td>\n",
       "      <td>[213, 220, 453, 697, 962, 90]</td>\n",
       "    </tr>\n",
       "    <tr>\n",
       "      <th>33</th>\n",
       "      <td>ablaz</td>\n",
       "      <td>ablaz  africanbaz break newsnigeria flag set...</td>\n",
       "      <td>1</td>\n",
       "      <td>[213, 1, 270, 1, 527, 221, 213, 910]</td>\n",
       "    </tr>\n",
       "    <tr>\n",
       "      <th>34</th>\n",
       "      <td>ablaz</td>\n",
       "      <td>ablaz  cri set ablaz</td>\n",
       "      <td>0</td>\n",
       "      <td>[213, 624, 221, 213]</td>\n",
       "    </tr>\n",
       "    <tr>\n",
       "      <th>35</th>\n",
       "      <td>ablaz</td>\n",
       "      <td>ablaz  plu look sky night ablaz</td>\n",
       "      <td>0</td>\n",
       "      <td>[213, 1, 48, 724, 285, 213]</td>\n",
       "    </tr>\n",
       "    <tr>\n",
       "      <th>...</th>\n",
       "      <td>...</td>\n",
       "      <td>...</td>\n",
       "      <td>...</td>\n",
       "      <td>...</td>\n",
       "    </tr>\n",
       "    <tr>\n",
       "      <th>7578</th>\n",
       "      <td>wreck</td>\n",
       "      <td>wreck  jtruff23 cameronhack wreck</td>\n",
       "      <td>0</td>\n",
       "      <td>[30, 1, 1, 30]</td>\n",
       "    </tr>\n",
       "    <tr>\n",
       "      <th>7579</th>\n",
       "      <td>wreck</td>\n",
       "      <td>wreck  day work ve pretti wreck hahaha shout...</td>\n",
       "      <td>0</td>\n",
       "      <td>[30, 56, 98, 119, 588, 30, 1, 1, 58]</td>\n",
       "    </tr>\n",
       "    <tr>\n",
       "      <th>7580</th>\n",
       "      <td>wreck</td>\n",
       "      <td>wreck  fx forex trade cramer iger word wreck...</td>\n",
       "      <td>0</td>\n",
       "      <td>[30, 1, 1, 1, 1, 1, 345, 30, 853, 364]</td>\n",
       "    </tr>\n",
       "    <tr>\n",
       "      <th>7581</th>\n",
       "      <td>wreck</td>\n",
       "      <td>wreck  enginesh great atmospher british lion...</td>\n",
       "      <td>0</td>\n",
       "      <td>[30, 1, 233, 1, 756, 1, 1, 314, 383, 30]</td>\n",
       "    </tr>\n",
       "    <tr>\n",
       "      <th>7582</th>\n",
       "      <td>wreck</td>\n",
       "      <td>wreck  cramer iger word wreck disney stock cnbc</td>\n",
       "      <td>0</td>\n",
       "      <td>[30, 1, 1, 345, 30, 853, 364, 1]</td>\n",
       "    </tr>\n",
       "  </tbody>\n",
       "</table>\n",
       "<p>7552 rows × 4 columns</p>\n",
       "</div>"
      ],
      "text/plain": [
       "      keyword                                               text  target  \\\n",
       "31      ablaz                ablaz  bbcmtd wholesal market ablaz       1   \n",
       "32      ablaz                    ablaz  tri bring heavi metal rt       0   \n",
       "33      ablaz    ablaz  africanbaz break newsnigeria flag set...       1   \n",
       "34      ablaz                               ablaz  cri set ablaz       0   \n",
       "35      ablaz                    ablaz  plu look sky night ablaz       0   \n",
       "...       ...                                                ...     ...   \n",
       "7578    wreck                  wreck  jtruff23 cameronhack wreck       0   \n",
       "7579    wreck    wreck  day work ve pretti wreck hahaha shout...       0   \n",
       "7580    wreck    wreck  fx forex trade cramer iger word wreck...       0   \n",
       "7581    wreck    wreck  enginesh great atmospher british lion...       0   \n",
       "7582    wreck    wreck  cramer iger word wreck disney stock cnbc       0   \n",
       "\n",
       "                                  text_encoded  \n",
       "31                       [213, 1, 1, 310, 213]  \n",
       "32               [213, 220, 453, 697, 962, 90]  \n",
       "33        [213, 1, 270, 1, 527, 221, 213, 910]  \n",
       "34                        [213, 624, 221, 213]  \n",
       "35                 [213, 1, 48, 724, 285, 213]  \n",
       "...                                        ...  \n",
       "7578                            [30, 1, 1, 30]  \n",
       "7579      [30, 56, 98, 119, 588, 30, 1, 1, 58]  \n",
       "7580    [30, 1, 1, 1, 1, 1, 345, 30, 853, 364]  \n",
       "7581  [30, 1, 233, 1, 756, 1, 1, 314, 383, 30]  \n",
       "7582          [30, 1, 1, 345, 30, 853, 364, 1]  \n",
       "\n",
       "[7552 rows x 4 columns]"
      ]
     },
     "execution_count": 17,
     "metadata": {},
     "output_type": "execute_result"
    }
   ],
   "source": [
    "dataset"
   ]
  },
  {
   "cell_type": "code",
   "execution_count": 18,
   "metadata": {},
   "outputs": [],
   "source": [
    "reviews_pad = tf.keras.preprocessing.sequence.pad_sequences(dataset.text_encoded, padding=\"post\")"
   ]
  },
  {
   "cell_type": "code",
   "execution_count": 19,
   "metadata": {},
   "outputs": [],
   "source": [
    "# Train Test Split\n",
    "xtrain, xval, ytrain, yval = train_test_split(reviews_pad,dataset.target, test_size=0.3)"
   ]
  },
  {
   "cell_type": "code",
   "execution_count": 20,
   "metadata": {},
   "outputs": [
    {
     "name": "stderr",
     "output_type": "stream",
     "text": [
      "2022-09-16 16:51:15.075813: I tensorflow/core/platform/cpu_feature_guard.cc:151] This TensorFlow binary is optimized with oneAPI Deep Neural Network Library (oneDNN) to use the following CPU instructions in performance-critical operations:  AVX2 FMA\n",
      "To enable them in other operations, rebuild TensorFlow with the appropriate compiler flags.\n"
     ]
    }
   ],
   "source": [
    "train = tf.data.Dataset.from_tensor_slices((xtrain, ytrain))\n",
    "val = tf.data.Dataset.from_tensor_slices((xval, yval))\n",
    "\n",
    "train_batch = train.shuffle(train.cardinality()).batch(64)\n",
    "val_batch = val.shuffle(val.cardinality()).batch(64)"
   ]
  },
  {
   "cell_type": "code",
   "execution_count": 21,
   "metadata": {},
   "outputs": [],
   "source": [
    "review = []\n",
    " # Some batch\n",
    "for review, star in train_batch.take(1):\n",
    "    # print(review, star)\n",
    "    review = review"
   ]
  },
  {
   "cell_type": "markdown",
   "metadata": {},
   "source": [
    "## Modeling"
   ]
  },
  {
   "cell_type": "code",
   "execution_count": 22,
   "metadata": {},
   "outputs": [],
   "source": [
    "vocab_size = tokenizer.num_words\n",
    "model = tf.keras.Sequential([\n",
    "                  # Couche d'Input Word Embedding           \n",
    "                  tf.keras.layers.Embedding(vocab_size+1, 8, input_shape=(review.shape[1],),name=\"embedding\"),\n",
    "                  # Gobal average pooling\n",
    "                  tf.keras.layers.GlobalAveragePooling1D(),\n",
    "\n",
    "                  # Couche Dense classique\n",
    "                  tf.keras.layers.Dense(16, activation='relu'),\n",
    "\n",
    "                  # Couche de sortie avec le nombre de neurones en sortie égale au nombre de classe avec fonction softmax\n",
    "                  tf.keras.layers.Dense(1, activation=\"linear\")\n",
    "])"
   ]
  },
  {
   "cell_type": "code",
   "execution_count": 23,
   "metadata": {},
   "outputs": [
    {
     "name": "stdout",
     "output_type": "stream",
     "text": [
      "Model: \"sequential\"\n",
      "_________________________________________________________________\n",
      " Layer (type)                Output Shape              Param #   \n",
      "=================================================================\n",
      " embedding (Embedding)       (None, 23, 8)             8008      \n",
      "                                                                 \n",
      " global_average_pooling1d (G  (None, 8)                0         \n",
      " lobalAveragePooling1D)                                          \n",
      "                                                                 \n",
      " dense (Dense)               (None, 16)                144       \n",
      "                                                                 \n",
      " dense_1 (Dense)             (None, 1)                 17        \n",
      "                                                                 \n",
      "=================================================================\n",
      "Total params: 8,169\n",
      "Trainable params: 8,169\n",
      "Non-trainable params: 0\n",
      "_________________________________________________________________\n"
     ]
    }
   ],
   "source": [
    "model.summary()"
   ]
  },
  {
   "cell_type": "code",
   "execution_count": 24,
   "metadata": {},
   "outputs": [],
   "source": [
    "optimizer= tf.keras.optimizers.Adam()\n",
    "\n",
    "model.compile(optimizer=optimizer,\n",
    "              loss=tf.keras.losses.MeanSquaredError(),\n",
    "              metrics=[tf.keras.metrics.MeanAbsoluteError()])"
   ]
  },
  {
   "cell_type": "code",
   "execution_count": 25,
   "metadata": {},
   "outputs": [
    {
     "name": "stdout",
     "output_type": "stream",
     "text": [
      "Epoch 1/20\n",
      "83/83 [==============================] - 1s 4ms/step - loss: 0.3019 - mean_absolute_error: 0.4559 - val_loss: 0.2467 - val_mean_absolute_error: 0.4868\n",
      "Epoch 2/20\n",
      "83/83 [==============================] - 0s 3ms/step - loss: 0.2342 - mean_absolute_error: 0.4765 - val_loss: 0.2296 - val_mean_absolute_error: 0.4697\n",
      "Epoch 3/20\n",
      "83/83 [==============================] - 0s 2ms/step - loss: 0.2052 - mean_absolute_error: 0.4404 - val_loss: 0.1887 - val_mean_absolute_error: 0.4162\n",
      "Epoch 4/20\n",
      "83/83 [==============================] - 0s 2ms/step - loss: 0.1588 - mean_absolute_error: 0.3576 - val_loss: 0.1600 - val_mean_absolute_error: 0.3374\n",
      "Epoch 5/20\n",
      "83/83 [==============================] - 0s 2ms/step - loss: 0.1401 - mean_absolute_error: 0.3071 - val_loss: 0.1549 - val_mean_absolute_error: 0.3204\n",
      "Epoch 6/20\n",
      "83/83 [==============================] - 0s 2ms/step - loss: 0.1334 - mean_absolute_error: 0.2932 - val_loss: 0.1539 - val_mean_absolute_error: 0.3170\n",
      "Epoch 7/20\n",
      "83/83 [==============================] - 0s 2ms/step - loss: 0.1295 - mean_absolute_error: 0.2845 - val_loss: 0.1543 - val_mean_absolute_error: 0.3079\n",
      "Epoch 8/20\n",
      "83/83 [==============================] - 0s 3ms/step - loss: 0.1269 - mean_absolute_error: 0.2800 - val_loss: 0.1535 - val_mean_absolute_error: 0.3075\n",
      "Epoch 9/20\n",
      "83/83 [==============================] - 0s 2ms/step - loss: 0.1246 - mean_absolute_error: 0.2763 - val_loss: 0.1552 - val_mean_absolute_error: 0.3030\n",
      "Epoch 10/20\n",
      "83/83 [==============================] - 0s 2ms/step - loss: 0.1228 - mean_absolute_error: 0.2724 - val_loss: 0.1544 - val_mean_absolute_error: 0.3047\n",
      "Epoch 11/20\n",
      "83/83 [==============================] - 0s 2ms/step - loss: 0.1211 - mean_absolute_error: 0.2699 - val_loss: 0.1558 - val_mean_absolute_error: 0.3125\n",
      "Epoch 12/20\n",
      "83/83 [==============================] - 0s 2ms/step - loss: 0.1208 - mean_absolute_error: 0.2694 - val_loss: 0.1563 - val_mean_absolute_error: 0.3017\n",
      "Epoch 13/20\n",
      "83/83 [==============================] - 0s 3ms/step - loss: 0.1185 - mean_absolute_error: 0.2643 - val_loss: 0.1567 - val_mean_absolute_error: 0.3009\n",
      "Epoch 14/20\n",
      "83/83 [==============================] - 0s 3ms/step - loss: 0.1175 - mean_absolute_error: 0.2640 - val_loss: 0.1564 - val_mean_absolute_error: 0.3022\n",
      "Epoch 15/20\n",
      "83/83 [==============================] - 0s 3ms/step - loss: 0.1168 - mean_absolute_error: 0.2617 - val_loss: 0.1567 - val_mean_absolute_error: 0.3042\n",
      "Epoch 16/20\n",
      "83/83 [==============================] - 0s 3ms/step - loss: 0.1160 - mean_absolute_error: 0.2592 - val_loss: 0.1580 - val_mean_absolute_error: 0.3013\n",
      "Epoch 17/20\n",
      "83/83 [==============================] - 0s 2ms/step - loss: 0.1148 - mean_absolute_error: 0.2572 - val_loss: 0.1589 - val_mean_absolute_error: 0.3084\n",
      "Epoch 18/20\n",
      "83/83 [==============================] - 0s 2ms/step - loss: 0.1145 - mean_absolute_error: 0.2567 - val_loss: 0.1591 - val_mean_absolute_error: 0.3007\n",
      "Epoch 19/20\n",
      "83/83 [==============================] - 0s 3ms/step - loss: 0.1137 - mean_absolute_error: 0.2544 - val_loss: 0.1591 - val_mean_absolute_error: 0.3025\n",
      "Epoch 20/20\n",
      "83/83 [==============================] - 0s 4ms/step - loss: 0.1133 - mean_absolute_error: 0.2535 - val_loss: 0.1597 - val_mean_absolute_error: 0.3021\n"
     ]
    }
   ],
   "source": [
    "history = model.fit(train_batch, \n",
    "                    epochs=20, \n",
    "                    validation_data=val_batch)"
   ]
  },
  {
   "cell_type": "code",
   "execution_count": 26,
   "metadata": {},
   "outputs": [
    {
     "data": {
      "image/png": "[encoded data removed]",
      "text/plain": [
       "<Figure size 640x480 with 1 Axes>"
      ]
     },
     "metadata": {},
     "output_type": "display_data"
    }
   ],
   "source": [
    "# Visualization of the training process on the loss function \n",
    "plt.plot(history.history[\"loss\"], color=\"b\")\n",
    "plt.plot(history.history[\"val_loss\"], color=\"r\")\n",
    "plt.ylabel(\"loss\")\n",
    "plt.xlabel(\"Epochs\")\n",
    "plt.show()"
   ]
  },
  {
   "cell_type": "code",
   "execution_count": 27,
   "metadata": {},
   "outputs": [
    {
     "data": {
      "image/png": "[encoded data removed]",
      "text/plain": [
       "<Figure size 640x480 with 1 Axes>"
      ]
     },
     "metadata": {},
     "output_type": "display_data"
    }
   ],
   "source": [
    "# Visualization of accuracy training \n",
    "plt.plot(history.history[\"mean_absolute_error\"], color=\"b\")\n",
    "plt.plot(history.history[\"val_mean_absolute_error\"], color=\"r\")\n",
    "plt.ylabel(\"mean_absolute_error\")\n",
    "plt.xlabel(\"Epochs\")\n",
    "plt.show()"
   ]
  },
  {
   "cell_type": "code",
   "execution_count": 28,
   "metadata": {},
   "outputs": [],
   "source": [
    "#dataset_with_token.to_csv(r'src/dataset_tokenized.csv', index=False)"
   ]
  }
 ],
 "metadata": {
  "kernelspec": {
   "display_name": "Python 3.9.5 64-bit",
   "language": "python",
   "name": "python3"
  },
  "language_info": {
   "codemirror_mode": {
    "name": "ipython",
    "version": 3
   },
   "file_extension": ".py",
   "mimetype": "text/x-python",
   "name": "python",
   "nbconvert_exporter": "python",
   "pygments_lexer": "ipython3",
   "version": "3.9.5"
  },
  "orig_nbformat": 4,
  "vscode": {
   "interpreter": {
    "hash": "7812ea015bdcee6f23a998adcdd2ef97c151c0c241b7b7070987d9313e41299d"
   }
  }
 },
 "nbformat": 4,
 "nbformat_minor": 2
}
