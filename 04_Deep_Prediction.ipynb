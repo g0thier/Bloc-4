{
 "cells": [
  {
   "cell_type": "code",
   "execution_count": 182,
   "metadata": {},
   "outputs": [],
   "source": [
    "# https://towardsdatascience.com/tf-idf-for-document-ranking-from-scratch-in-python-on-real-world-dataset-796d339a4089\n",
    "# https://colab.research.google.com/drive/1-SVO8G2DoXA0f-629I2zgCOjAo1FHH-B#scrollTo=D96WZP8cVOFL\n",
    "# https://app.jedha.co/course/recurrent-neural-networks-ft/code-recurrent-neural-network-ft\n",
    "# https://machinelearningmastery.com/how-to-make-classification-and-regression-predictions-for-deep-learning-models-in-keras/\n",
    "from datetime import datetime\n",
    "import matplotlib.pyplot as plt\n",
    "from matplotlib.colors import Normalize\n",
    "import numpy as np\n",
    "from num2words import num2words\n",
    "import pandas as pd\n",
    "import plotly.express as px\n",
    "import plotly.figure_factory as ff\n",
    "import plotly.graph_objects as go\n",
    "import plotly.io as pio\n",
    "from plotly.subplots import make_subplots\n",
    "import re\n",
    "import seaborn as sns\n",
    "import tensorflow as tf\n",
    "from sklearn.model_selection import train_test_split\n",
    "\n",
    "from sklearn.metrics import( accuracy_score, classification_report, confusion_matrix, ConfusionMatrixDisplay, \n",
    "                             f1_score, mean_squared_error, r2_score, RocCurveDisplay )\n",
    "\n",
    "import spacy\n",
    "import en_core_web_sm\n",
    "\n",
    "\n",
    "# Tfidf transformer \n",
    "from sklearn.feature_extraction.text import TfidfVectorizer\n",
    "\n",
    "#https://www.nltk.org/howto/stem.html\n",
    "from nltk.stem.porter import *\n"
   ]
  },
  {
   "cell_type": "code",
   "execution_count": 183,
   "metadata": {},
   "outputs": [],
   "source": [
    "dataset = pd.read_csv('src/dataset_encoded.csv')\n",
    "dataset['text_encoded'] = [eval(i) for i in dataset['text_encoded']]"
   ]
  },
  {
   "cell_type": "markdown",
   "metadata": {},
   "source": [
    "## Keras preprocessing"
   ]
  },
  {
   "cell_type": "code",
   "execution_count": 184,
   "metadata": {},
   "outputs": [],
   "source": [
    "reviews_pad = tf.keras.preprocessing.sequence.pad_sequences(dataset['text_encoded'], padding=\"post\")"
   ]
  },
  {
   "cell_type": "code",
   "execution_count": 185,
   "metadata": {},
   "outputs": [],
   "source": [
    "# Train Test Split\n",
    "xtrain, xval, ytrain, yval = train_test_split(reviews_pad,dataset.target, test_size=0.3)"
   ]
  },
  {
   "cell_type": "markdown",
   "metadata": {},
   "source": [
    "## Create batch"
   ]
  },
  {
   "cell_type": "code",
   "execution_count": 186,
   "metadata": {},
   "outputs": [],
   "source": [
    "train = tf.data.Dataset.from_tensor_slices((xtrain, ytrain))\n",
    "val = tf.data.Dataset.from_tensor_slices((xval, yval))\n",
    "\n",
    "train_batch = train.shuffle(train.cardinality()).batch(64)\n",
    "val_batch = val.shuffle(val.cardinality()).batch(64)"
   ]
  },
  {
   "cell_type": "code",
   "execution_count": 187,
   "metadata": {},
   "outputs": [],
   "source": [
    "review = []\n",
    " # Some batch\n",
    "for review, star in train_batch.take(1):\n",
    "    # print(review, star)\n",
    "    review = review"
   ]
  },
  {
   "cell_type": "markdown",
   "metadata": {},
   "source": [
    "## Tokenizer"
   ]
  },
  {
   "cell_type": "code",
   "execution_count": 188,
   "metadata": {},
   "outputs": [],
   "source": [
    "tokenizer = tf.keras.preprocessing.text.Tokenizer(num_words=1000, oov_token=\"out_of_vocab\") # instanciate the tokenizer\n",
    "tokenizer.fit_on_texts(dataset.text)\n",
    "dataset[\"text_encoded\"] = tokenizer.texts_to_sequences(dataset.text)\n"
   ]
  },
  {
   "cell_type": "code",
   "execution_count": 189,
   "metadata": {},
   "outputs": [
    {
     "data": {
      "text/html": [
       "<div>\n",
       "<style scoped>\n",
       "    .dataframe tbody tr th:only-of-type {\n",
       "        vertical-align: middle;\n",
       "    }\n",
       "\n",
       "    .dataframe tbody tr th {\n",
       "        vertical-align: top;\n",
       "    }\n",
       "\n",
       "    .dataframe thead th {\n",
       "        text-align: right;\n",
       "    }\n",
       "</style>\n",
       "<table border=\"1\" class=\"dataframe\">\n",
       "  <thead>\n",
       "    <tr style=\"text-align: right;\">\n",
       "      <th></th>\n",
       "      <th>keyword</th>\n",
       "      <th>text</th>\n",
       "      <th>target</th>\n",
       "      <th>text_encoded</th>\n",
       "    </tr>\n",
       "  </thead>\n",
       "  <tbody>\n",
       "    <tr>\n",
       "      <th>0</th>\n",
       "      <td>ablaz</td>\n",
       "      <td>ablaz  bbcmtd wholesal market ablaz</td>\n",
       "      <td>1</td>\n",
       "      <td>[213, 1, 1, 310, 213]</td>\n",
       "    </tr>\n",
       "    <tr>\n",
       "      <th>1</th>\n",
       "      <td>ablaz</td>\n",
       "      <td>ablaz  tri bring heavi metal rt</td>\n",
       "      <td>0</td>\n",
       "      <td>[213, 220, 453, 697, 962, 90]</td>\n",
       "    </tr>\n",
       "    <tr>\n",
       "      <th>2</th>\n",
       "      <td>ablaz</td>\n",
       "      <td>ablaz  africanbaz break newsnigeria flag set...</td>\n",
       "      <td>1</td>\n",
       "      <td>[213, 1, 270, 1, 527, 221, 213, 910]</td>\n",
       "    </tr>\n",
       "    <tr>\n",
       "      <th>3</th>\n",
       "      <td>ablaz</td>\n",
       "      <td>ablaz  cri set ablaz</td>\n",
       "      <td>0</td>\n",
       "      <td>[213, 624, 221, 213]</td>\n",
       "    </tr>\n",
       "    <tr>\n",
       "      <th>4</th>\n",
       "      <td>ablaz</td>\n",
       "      <td>ablaz  plu look sky night ablaz</td>\n",
       "      <td>0</td>\n",
       "      <td>[213, 1, 48, 724, 285, 213]</td>\n",
       "    </tr>\n",
       "    <tr>\n",
       "      <th>...</th>\n",
       "      <td>...</td>\n",
       "      <td>...</td>\n",
       "      <td>...</td>\n",
       "      <td>...</td>\n",
       "    </tr>\n",
       "    <tr>\n",
       "      <th>7547</th>\n",
       "      <td>wreck</td>\n",
       "      <td>wreck  jtruff23 cameronhack wreck</td>\n",
       "      <td>0</td>\n",
       "      <td>[30, 1, 1, 30]</td>\n",
       "    </tr>\n",
       "    <tr>\n",
       "      <th>7548</th>\n",
       "      <td>wreck</td>\n",
       "      <td>wreck  day work ve pretti wreck hahaha shout...</td>\n",
       "      <td>0</td>\n",
       "      <td>[30, 56, 98, 119, 588, 30, 1, 1, 58]</td>\n",
       "    </tr>\n",
       "    <tr>\n",
       "      <th>7549</th>\n",
       "      <td>wreck</td>\n",
       "      <td>wreck  fx forex trade cramer iger word wreck...</td>\n",
       "      <td>0</td>\n",
       "      <td>[30, 1, 1, 1, 1, 1, 345, 30, 853, 364]</td>\n",
       "    </tr>\n",
       "    <tr>\n",
       "      <th>7550</th>\n",
       "      <td>wreck</td>\n",
       "      <td>wreck  enginesh great atmospher british lion...</td>\n",
       "      <td>0</td>\n",
       "      <td>[30, 1, 233, 1, 756, 1, 1, 314, 383, 30]</td>\n",
       "    </tr>\n",
       "    <tr>\n",
       "      <th>7551</th>\n",
       "      <td>wreck</td>\n",
       "      <td>wreck  cramer iger word wreck disney stock cnbc</td>\n",
       "      <td>0</td>\n",
       "      <td>[30, 1, 1, 345, 30, 853, 364, 1]</td>\n",
       "    </tr>\n",
       "  </tbody>\n",
       "</table>\n",
       "<p>7552 rows × 4 columns</p>\n",
       "</div>"
      ],
      "text/plain": [
       "      keyword                                               text  target  \\\n",
       "0       ablaz                ablaz  bbcmtd wholesal market ablaz       1   \n",
       "1       ablaz                    ablaz  tri bring heavi metal rt       0   \n",
       "2       ablaz    ablaz  africanbaz break newsnigeria flag set...       1   \n",
       "3       ablaz                               ablaz  cri set ablaz       0   \n",
       "4       ablaz                    ablaz  plu look sky night ablaz       0   \n",
       "...       ...                                                ...     ...   \n",
       "7547    wreck                  wreck  jtruff23 cameronhack wreck       0   \n",
       "7548    wreck    wreck  day work ve pretti wreck hahaha shout...       0   \n",
       "7549    wreck    wreck  fx forex trade cramer iger word wreck...       0   \n",
       "7550    wreck    wreck  enginesh great atmospher british lion...       0   \n",
       "7551    wreck    wreck  cramer iger word wreck disney stock cnbc       0   \n",
       "\n",
       "                                  text_encoded  \n",
       "0                        [213, 1, 1, 310, 213]  \n",
       "1                [213, 220, 453, 697, 962, 90]  \n",
       "2         [213, 1, 270, 1, 527, 221, 213, 910]  \n",
       "3                         [213, 624, 221, 213]  \n",
       "4                  [213, 1, 48, 724, 285, 213]  \n",
       "...                                        ...  \n",
       "7547                            [30, 1, 1, 30]  \n",
       "7548      [30, 56, 98, 119, 588, 30, 1, 1, 58]  \n",
       "7549    [30, 1, 1, 1, 1, 1, 345, 30, 853, 364]  \n",
       "7550  [30, 1, 233, 1, 756, 1, 1, 314, 383, 30]  \n",
       "7551          [30, 1, 1, 345, 30, 853, 364, 1]  \n",
       "\n",
       "[7552 rows x 4 columns]"
      ]
     },
     "execution_count": 189,
     "metadata": {},
     "output_type": "execute_result"
    }
   ],
   "source": [
    "dataset"
   ]
  },
  {
   "cell_type": "markdown",
   "metadata": {},
   "source": [
    "## Modeling"
   ]
  },
  {
   "cell_type": "code",
   "execution_count": 190,
   "metadata": {},
   "outputs": [],
   "source": [
    "vocab_size = tokenizer.num_words\n",
    "model = tf.keras.Sequential([\n",
    "                  # Couche d'Input Word Embedding           \n",
    "                  tf.keras.layers.Embedding(vocab_size+1, 8, input_shape=(review.shape[1],),name=\"embedding\"),\n",
    "                  # Gobal average pooling\n",
    "                  tf.keras.layers.GlobalAveragePooling1D(),\n",
    "\n",
    "                  # Couche Dense classique\n",
    "                  tf.keras.layers.Dense(16, activation='relu'),\n",
    "\n",
    "                  # Couche de sortie avec le nombre de neurones en sortie égale au nombre de classe avec fonction softmax\n",
    "                  tf.keras.layers.Dense(1, activation=\"linear\")\n",
    "])"
   ]
  },
  {
   "cell_type": "code",
   "execution_count": 191,
   "metadata": {},
   "outputs": [
    {
     "name": "stdout",
     "output_type": "stream",
     "text": [
      "Model: \"sequential_9\"\n",
      "_________________________________________________________________\n",
      " Layer (type)                Output Shape              Param #   \n",
      "=================================================================\n",
      " embedding (Embedding)       (None, 23, 8)             8008      \n",
      "                                                                 \n",
      " global_average_pooling1d_9   (None, 8)                0         \n",
      " (GlobalAveragePooling1D)                                        \n",
      "                                                                 \n",
      " dense_18 (Dense)            (None, 16)                144       \n",
      "                                                                 \n",
      " dense_19 (Dense)            (None, 1)                 17        \n",
      "                                                                 \n",
      "=================================================================\n",
      "Total params: 8,169\n",
      "Trainable params: 8,169\n",
      "Non-trainable params: 0\n",
      "_________________________________________________________________\n"
     ]
    }
   ],
   "source": [
    "model.summary()"
   ]
  },
  {
   "cell_type": "markdown",
   "metadata": {},
   "source": [
    "## keras model"
   ]
  },
  {
   "cell_type": "code",
   "execution_count": 192,
   "metadata": {},
   "outputs": [],
   "source": [
    "optimizer= tf.keras.optimizers.Adam()\n",
    "\n",
    "model.compile(optimizer=optimizer,\n",
    "              loss=tf.keras.losses.MeanSquaredError(),\n",
    "              metrics=[tf.keras.metrics.MeanAbsoluteError()])"
   ]
  },
  {
   "cell_type": "markdown",
   "metadata": {},
   "source": [
    "## Training test"
   ]
  },
  {
   "cell_type": "code",
   "execution_count": 193,
   "metadata": {},
   "outputs": [
    {
     "name": "stdout",
     "output_type": "stream",
     "text": [
      "Epoch 1/20\n",
      "83/83 [==============================] - 1s 5ms/step - loss: 0.2908 - mean_absolute_error: 0.4676 - val_loss: 0.2417 - val_mean_absolute_error: 0.4865\n",
      "Epoch 2/20\n",
      "83/83 [==============================] - 0s 2ms/step - loss: 0.2322 - mean_absolute_error: 0.4757 - val_loss: 0.2208 - val_mean_absolute_error: 0.4614\n",
      "Epoch 3/20\n",
      "83/83 [==============================] - 0s 2ms/step - loss: 0.2024 - mean_absolute_error: 0.4374 - val_loss: 0.1806 - val_mean_absolute_error: 0.4010\n",
      "Epoch 4/20\n",
      "83/83 [==============================] - 0s 2ms/step - loss: 0.1619 - mean_absolute_error: 0.3629 - val_loss: 0.1519 - val_mean_absolute_error: 0.3312\n",
      "Epoch 5/20\n",
      "83/83 [==============================] - 0s 3ms/step - loss: 0.1431 - mean_absolute_error: 0.3148 - val_loss: 0.1482 - val_mean_absolute_error: 0.3204\n",
      "Epoch 6/20\n",
      "83/83 [==============================] - 0s 2ms/step - loss: 0.1364 - mean_absolute_error: 0.2987 - val_loss: 0.1447 - val_mean_absolute_error: 0.2988\n",
      "Epoch 7/20\n",
      "83/83 [==============================] - 0s 2ms/step - loss: 0.1315 - mean_absolute_error: 0.2871 - val_loss: 0.1443 - val_mean_absolute_error: 0.2973\n",
      "Epoch 8/20\n",
      "83/83 [==============================] - 0s 2ms/step - loss: 0.1285 - mean_absolute_error: 0.2817 - val_loss: 0.1446 - val_mean_absolute_error: 0.2991\n",
      "Epoch 9/20\n",
      "83/83 [==============================] - 0s 2ms/step - loss: 0.1259 - mean_absolute_error: 0.2757 - val_loss: 0.1443 - val_mean_absolute_error: 0.2930\n",
      "Epoch 10/20\n",
      "83/83 [==============================] - 0s 2ms/step - loss: 0.1233 - mean_absolute_error: 0.2700 - val_loss: 0.1458 - val_mean_absolute_error: 0.2980\n",
      "Epoch 11/20\n",
      "83/83 [==============================] - 0s 2ms/step - loss: 0.1213 - mean_absolute_error: 0.2658 - val_loss: 0.1448 - val_mean_absolute_error: 0.2906\n",
      "Epoch 12/20\n",
      "83/83 [==============================] - 0s 2ms/step - loss: 0.1193 - mean_absolute_error: 0.2622 - val_loss: 0.1463 - val_mean_absolute_error: 0.2926\n",
      "Epoch 13/20\n",
      "83/83 [==============================] - 0s 2ms/step - loss: 0.1177 - mean_absolute_error: 0.2584 - val_loss: 0.1457 - val_mean_absolute_error: 0.2807\n",
      "Epoch 14/20\n",
      "83/83 [==============================] - 0s 2ms/step - loss: 0.1165 - mean_absolute_error: 0.2543 - val_loss: 0.1453 - val_mean_absolute_error: 0.2826\n",
      "Epoch 15/20\n",
      "83/83 [==============================] - 0s 2ms/step - loss: 0.1155 - mean_absolute_error: 0.2533 - val_loss: 0.1465 - val_mean_absolute_error: 0.2761\n",
      "Epoch 16/20\n",
      "83/83 [==============================] - 0s 2ms/step - loss: 0.1136 - mean_absolute_error: 0.2494 - val_loss: 0.1468 - val_mean_absolute_error: 0.2746\n",
      "Epoch 17/20\n",
      "83/83 [==============================] - 0s 2ms/step - loss: 0.1125 - mean_absolute_error: 0.2447 - val_loss: 0.1470 - val_mean_absolute_error: 0.2795\n",
      "Epoch 18/20\n",
      "83/83 [==============================] - 0s 2ms/step - loss: 0.1113 - mean_absolute_error: 0.2420 - val_loss: 0.1493 - val_mean_absolute_error: 0.2869\n",
      "Epoch 19/20\n",
      "83/83 [==============================] - 0s 2ms/step - loss: 0.1106 - mean_absolute_error: 0.2401 - val_loss: 0.1483 - val_mean_absolute_error: 0.2754\n",
      "Epoch 20/20\n",
      "83/83 [==============================] - 0s 2ms/step - loss: 0.1091 - mean_absolute_error: 0.2362 - val_loss: 0.1486 - val_mean_absolute_error: 0.2781\n"
     ]
    }
   ],
   "source": [
    "history = model.fit(train_batch, \n",
    "                    epochs=20, \n",
    "                    validation_data=val_batch)"
   ]
  },
  {
   "cell_type": "code",
   "execution_count": 194,
   "metadata": {},
   "outputs": [
    {
     "data": {
      "image/png": "[encoded data removed]",
      "text/plain": [
       "<Figure size 640x480 with 1 Axes>"
      ]
     },
     "metadata": {},
     "output_type": "display_data"
    }
   ],
   "source": [
    "# Visualization of the training process on the loss function \n",
    "plt.plot(history.history[\"loss\"], color=\"b\")\n",
    "plt.plot(history.history[\"val_loss\"], color=\"r\")\n",
    "plt.ylabel(\"loss\")\n",
    "plt.xlabel(\"Epochs\")\n",
    "plt.show()"
   ]
  },
  {
   "cell_type": "markdown",
   "metadata": {},
   "source": [
    "## Visualization of accuracy training "
   ]
  },
  {
   "cell_type": "code",
   "execution_count": 195,
   "metadata": {},
   "outputs": [
    {
     "data": {
      "image/png": "[encoded data removed]",
      "text/plain": [
       "<Figure size 640x480 with 1 Axes>"
      ]
     },
     "metadata": {},
     "output_type": "display_data"
    }
   ],
   "source": [
    "plt.plot(history.history[\"mean_absolute_error\"], color=\"b\")\n",
    "plt.plot(history.history[\"val_mean_absolute_error\"], color=\"r\")\n",
    "plt.ylabel(\"mean_absolute_error\")\n",
    "plt.xlabel(\"Epochs\")\n",
    "plt.show()"
   ]
  },
  {
   "cell_type": "markdown",
   "metadata": {},
   "source": [
    "## Training"
   ]
  },
  {
   "cell_type": "code",
   "execution_count": 196,
   "metadata": {},
   "outputs": [
    {
     "name": "stdout",
     "output_type": "stream",
     "text": [
      "Epoch 1/4\n",
      "83/83 [==============================] - 0s 3ms/step - loss: 0.1080 - mean_absolute_error: 0.2337 - val_loss: 0.1478 - val_mean_absolute_error: 0.2739\n",
      "Epoch 2/4\n",
      "83/83 [==============================] - 0s 3ms/step - loss: 0.1071 - mean_absolute_error: 0.2318 - val_loss: 0.1489 - val_mean_absolute_error: 0.2703\n",
      "Epoch 3/4\n",
      "83/83 [==============================] - 0s 3ms/step - loss: 0.1066 - mean_absolute_error: 0.2291 - val_loss: 0.1494 - val_mean_absolute_error: 0.2642\n",
      "Epoch 4/4\n",
      "83/83 [==============================] - 0s 3ms/step - loss: 0.1050 - mean_absolute_error: 0.2256 - val_loss: 0.1516 - val_mean_absolute_error: 0.2740\n"
     ]
    },
    {
     "data": {
      "text/plain": [
       "<keras.callbacks.History at 0x7fb0235cf460>"
      ]
     },
     "execution_count": 196,
     "metadata": {},
     "output_type": "execute_result"
    }
   ],
   "source": [
    "model.fit(train_batch, epochs=4, validation_data=val_batch)"
   ]
  },
  {
   "cell_type": "markdown",
   "metadata": {},
   "source": [
    "## Predictions"
   ]
  },
  {
   "cell_type": "code",
   "execution_count": 197,
   "metadata": {},
   "outputs": [
    {
     "name": "stdout",
     "output_type": "stream",
     "text": [
      "166/166 [==============================] - 0s 1ms/step\n",
      "71/71 [==============================] - 0s 1ms/step\n"
     ]
    }
   ],
   "source": [
    "Y_train_pred = model.predict(xtrain) # Predictions on training set\n",
    "Y_val_pred = model.predict(xval) # Prédictions on test set \n",
    "\n",
    "Y_train_pred = np.reshape(np.around(Y_train_pred).astype(int), len(Y_train_pred) )\n",
    "Y_val_pred = np.reshape(np.around(Y_val_pred).astype(int), len(Y_val_pred) )"
   ]
  },
  {
   "cell_type": "markdown",
   "metadata": {},
   "source": [
    "## Performances evaluation"
   ]
  },
  {
   "cell_type": "code",
   "execution_count": 198,
   "metadata": {},
   "outputs": [
    {
     "name": "stdout",
     "output_type": "stream",
     "text": [
      "Accuracy on training set :  0.8609534619750284\n",
      "Accuracy on test set :  0.7978817299205648\n"
     ]
    }
   ],
   "source": [
    "print(\"Accuracy on training set : \", accuracy_score(ytrain, Y_train_pred))\n",
    "print(\"Accuracy on test set : \", accuracy_score(yval, Y_val_pred))"
   ]
  }
 ],
 "metadata": {
  "kernelspec": {
   "display_name": "Python 3.9.5 64-bit",
   "language": "python",
   "name": "python3"
  },
  "language_info": {
   "codemirror_mode": {
    "name": "ipython",
    "version": 3
   },
   "file_extension": ".py",
   "mimetype": "text/x-python",
   "name": "python",
   "nbconvert_exporter": "python",
   "pygments_lexer": "ipython3",
   "version": "3.9.5"
  },
  "orig_nbformat": 4,
  "vscode": {
   "interpreter": {
    "hash": "7812ea015bdcee6f23a998adcdd2ef97c151c0c241b7b7070987d9313e41299d"
   }
  }
 },
 "nbformat": 4,
 "nbformat_minor": 2
}
