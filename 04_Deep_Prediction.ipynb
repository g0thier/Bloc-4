{
 "cells": [
  {
   "cell_type": "code",
   "execution_count": 26,
   "metadata": {},
   "outputs": [],
   "source": [
    "# https://towardsdatascience.com/tf-idf-for-document-ranking-from-scratch-in-python-on-real-world-dataset-796d339a4089\n",
    "from datetime import datetime\n",
    "import matplotlib.pyplot as plt\n",
    "from matplotlib.colors import Normalize\n",
    "import numpy as np\n",
    "from num2words import num2words\n",
    "import pandas as pd\n",
    "import plotly.express as px\n",
    "import plotly.figure_factory as ff\n",
    "import plotly.graph_objects as go\n",
    "import plotly.io as pio\n",
    "from plotly.subplots import make_subplots\n",
    "import re\n",
    "import seaborn as sns\n",
    "import tensorflow as tf\n",
    "from sklearn.model_selection import train_test_split\n",
    "\n",
    "import spacy\n",
    "import en_core_web_sm\n",
    "\n",
    "\n",
    "# Tfidf transformer \n",
    "from sklearn.feature_extraction.text import TfidfVectorizer\n",
    "\n",
    "#https://www.nltk.org/howto/stem.html\n",
    "from nltk.stem.porter import *\n"
   ]
  },
  {
   "cell_type": "code",
   "execution_count": 27,
   "metadata": {},
   "outputs": [],
   "source": [
    "dataset = pd.read_csv('src/dataset_encoded.csv')\n",
    "dataset['text_encoded'] = [eval(i) for i in dataset['text_encoded']]"
   ]
  },
  {
   "cell_type": "code",
   "execution_count": 28,
   "metadata": {},
   "outputs": [],
   "source": [
    "reviews_pad = tf.keras.preprocessing.sequence.pad_sequences(dataset['text_encoded'], padding=\"post\")"
   ]
  },
  {
   "cell_type": "code",
   "execution_count": 29,
   "metadata": {},
   "outputs": [],
   "source": [
    "# Train Test Split\n",
    "xtrain, xval, ytrain, yval = train_test_split(reviews_pad,dataset.target, test_size=0.3)"
   ]
  },
  {
   "cell_type": "code",
   "execution_count": 30,
   "metadata": {},
   "outputs": [],
   "source": [
    "train = tf.data.Dataset.from_tensor_slices((xtrain, ytrain))\n",
    "val = tf.data.Dataset.from_tensor_slices((xval, yval))\n",
    "\n",
    "train_batch = train.shuffle(train.cardinality()).batch(64)\n",
    "val_batch = val.shuffle(val.cardinality()).batch(64)"
   ]
  },
  {
   "cell_type": "code",
   "execution_count": 31,
   "metadata": {},
   "outputs": [],
   "source": [
    "review = []\n",
    " # Some batch\n",
    "for review, star in train_batch.take(1):\n",
    "    # print(review, star)\n",
    "    review = review"
   ]
  },
  {
   "cell_type": "code",
   "execution_count": 32,
   "metadata": {},
   "outputs": [],
   "source": [
    "tokenizer = tf.keras.preprocessing.text.Tokenizer(num_words=1000, oov_token=\"out_of_vocab\") # instanciate the tokenizer\n",
    "tokenizer.fit_on_texts(dataset.text)\n",
    "dataset[\"text_encoded\"] = tokenizer.texts_to_sequences(dataset.text)\n"
   ]
  },
  {
   "cell_type": "code",
   "execution_count": 39,
   "metadata": {},
   "outputs": [
    {
     "data": {
      "text/html": [
       "<div>\n",
       "<style scoped>\n",
       "    .dataframe tbody tr th:only-of-type {\n",
       "        vertical-align: middle;\n",
       "    }\n",
       "\n",
       "    .dataframe tbody tr th {\n",
       "        vertical-align: top;\n",
       "    }\n",
       "\n",
       "    .dataframe thead th {\n",
       "        text-align: right;\n",
       "    }\n",
       "</style>\n",
       "<table border=\"1\" class=\"dataframe\">\n",
       "  <thead>\n",
       "    <tr style=\"text-align: right;\">\n",
       "      <th></th>\n",
       "      <th>keyword</th>\n",
       "      <th>text</th>\n",
       "      <th>target</th>\n",
       "      <th>text_encoded</th>\n",
       "    </tr>\n",
       "  </thead>\n",
       "  <tbody>\n",
       "    <tr>\n",
       "      <th>0</th>\n",
       "      <td>ablaz</td>\n",
       "      <td>ablaz  bbcmtd wholesal market ablaz</td>\n",
       "      <td>1</td>\n",
       "      <td>[213, 1, 1, 310, 213]</td>\n",
       "    </tr>\n",
       "    <tr>\n",
       "      <th>1</th>\n",
       "      <td>ablaz</td>\n",
       "      <td>ablaz  tri bring heavi metal rt</td>\n",
       "      <td>0</td>\n",
       "      <td>[213, 220, 453, 697, 962, 90]</td>\n",
       "    </tr>\n",
       "    <tr>\n",
       "      <th>2</th>\n",
       "      <td>ablaz</td>\n",
       "      <td>ablaz  africanbaz break newsnigeria flag set...</td>\n",
       "      <td>1</td>\n",
       "      <td>[213, 1, 270, 1, 527, 221, 213, 910]</td>\n",
       "    </tr>\n",
       "    <tr>\n",
       "      <th>3</th>\n",
       "      <td>ablaz</td>\n",
       "      <td>ablaz  cri set ablaz</td>\n",
       "      <td>0</td>\n",
       "      <td>[213, 624, 221, 213]</td>\n",
       "    </tr>\n",
       "    <tr>\n",
       "      <th>4</th>\n",
       "      <td>ablaz</td>\n",
       "      <td>ablaz  plu look sky night ablaz</td>\n",
       "      <td>0</td>\n",
       "      <td>[213, 1, 48, 724, 285, 213]</td>\n",
       "    </tr>\n",
       "    <tr>\n",
       "      <th>...</th>\n",
       "      <td>...</td>\n",
       "      <td>...</td>\n",
       "      <td>...</td>\n",
       "      <td>...</td>\n",
       "    </tr>\n",
       "    <tr>\n",
       "      <th>7547</th>\n",
       "      <td>wreck</td>\n",
       "      <td>wreck  jtruff23 cameronhack wreck</td>\n",
       "      <td>0</td>\n",
       "      <td>[30, 1, 1, 30]</td>\n",
       "    </tr>\n",
       "    <tr>\n",
       "      <th>7548</th>\n",
       "      <td>wreck</td>\n",
       "      <td>wreck  day work ve pretti wreck hahaha shout...</td>\n",
       "      <td>0</td>\n",
       "      <td>[30, 56, 98, 119, 588, 30, 1, 1, 58]</td>\n",
       "    </tr>\n",
       "    <tr>\n",
       "      <th>7549</th>\n",
       "      <td>wreck</td>\n",
       "      <td>wreck  fx forex trade cramer iger word wreck...</td>\n",
       "      <td>0</td>\n",
       "      <td>[30, 1, 1, 1, 1, 1, 345, 30, 853, 364]</td>\n",
       "    </tr>\n",
       "    <tr>\n",
       "      <th>7550</th>\n",
       "      <td>wreck</td>\n",
       "      <td>wreck  enginesh great atmospher british lion...</td>\n",
       "      <td>0</td>\n",
       "      <td>[30, 1, 233, 1, 756, 1, 1, 314, 383, 30]</td>\n",
       "    </tr>\n",
       "    <tr>\n",
       "      <th>7551</th>\n",
       "      <td>wreck</td>\n",
       "      <td>wreck  cramer iger word wreck disney stock cnbc</td>\n",
       "      <td>0</td>\n",
       "      <td>[30, 1, 1, 345, 30, 853, 364, 1]</td>\n",
       "    </tr>\n",
       "  </tbody>\n",
       "</table>\n",
       "<p>7552 rows × 4 columns</p>\n",
       "</div>"
      ],
      "text/plain": [
       "      keyword                                               text  target  \\\n",
       "0       ablaz                ablaz  bbcmtd wholesal market ablaz       1   \n",
       "1       ablaz                    ablaz  tri bring heavi metal rt       0   \n",
       "2       ablaz    ablaz  africanbaz break newsnigeria flag set...       1   \n",
       "3       ablaz                               ablaz  cri set ablaz       0   \n",
       "4       ablaz                    ablaz  plu look sky night ablaz       0   \n",
       "...       ...                                                ...     ...   \n",
       "7547    wreck                  wreck  jtruff23 cameronhack wreck       0   \n",
       "7548    wreck    wreck  day work ve pretti wreck hahaha shout...       0   \n",
       "7549    wreck    wreck  fx forex trade cramer iger word wreck...       0   \n",
       "7550    wreck    wreck  enginesh great atmospher british lion...       0   \n",
       "7551    wreck    wreck  cramer iger word wreck disney stock cnbc       0   \n",
       "\n",
       "                                  text_encoded  \n",
       "0                        [213, 1, 1, 310, 213]  \n",
       "1                [213, 220, 453, 697, 962, 90]  \n",
       "2         [213, 1, 270, 1, 527, 221, 213, 910]  \n",
       "3                         [213, 624, 221, 213]  \n",
       "4                  [213, 1, 48, 724, 285, 213]  \n",
       "...                                        ...  \n",
       "7547                            [30, 1, 1, 30]  \n",
       "7548      [30, 56, 98, 119, 588, 30, 1, 1, 58]  \n",
       "7549    [30, 1, 1, 1, 1, 1, 345, 30, 853, 364]  \n",
       "7550  [30, 1, 233, 1, 756, 1, 1, 314, 383, 30]  \n",
       "7551          [30, 1, 1, 345, 30, 853, 364, 1]  \n",
       "\n",
       "[7552 rows x 4 columns]"
      ]
     },
     "execution_count": 39,
     "metadata": {},
     "output_type": "execute_result"
    }
   ],
   "source": [
    "dataset"
   ]
  },
  {
   "cell_type": "markdown",
   "metadata": {},
   "source": [
    "## Modeling"
   ]
  },
  {
   "cell_type": "code",
   "execution_count": 33,
   "metadata": {},
   "outputs": [],
   "source": [
    "vocab_size = tokenizer.num_words\n",
    "model = tf.keras.Sequential([\n",
    "                  # Couche d'Input Word Embedding           \n",
    "                  tf.keras.layers.Embedding(vocab_size+1, 8, input_shape=(review.shape[1],),name=\"embedding\"),\n",
    "                  # Gobal average pooling\n",
    "                  tf.keras.layers.GlobalAveragePooling1D(),\n",
    "\n",
    "                  # Couche Dense classique\n",
    "                  tf.keras.layers.Dense(16, activation='relu'),\n",
    "\n",
    "                  # Couche de sortie avec le nombre de neurones en sortie égale au nombre de classe avec fonction softmax\n",
    "                  tf.keras.layers.Dense(1, activation=\"linear\")\n",
    "])"
   ]
  },
  {
   "cell_type": "code",
   "execution_count": 34,
   "metadata": {},
   "outputs": [
    {
     "name": "stdout",
     "output_type": "stream",
     "text": [
      "Model: \"sequential_1\"\n",
      "_________________________________________________________________\n",
      " Layer (type)                Output Shape              Param #   \n",
      "=================================================================\n",
      " embedding (Embedding)       (None, 23, 8)             8008      \n",
      "                                                                 \n",
      " global_average_pooling1d_1   (None, 8)                0         \n",
      " (GlobalAveragePooling1D)                                        \n",
      "                                                                 \n",
      " dense_2 (Dense)             (None, 16)                144       \n",
      "                                                                 \n",
      " dense_3 (Dense)             (None, 1)                 17        \n",
      "                                                                 \n",
      "=================================================================\n",
      "Total params: 8,169\n",
      "Trainable params: 8,169\n",
      "Non-trainable params: 0\n",
      "_________________________________________________________________\n"
     ]
    }
   ],
   "source": [
    "model.summary()"
   ]
  },
  {
   "cell_type": "code",
   "execution_count": 35,
   "metadata": {},
   "outputs": [],
   "source": [
    "optimizer= tf.keras.optimizers.Adam()\n",
    "\n",
    "model.compile(optimizer=optimizer,\n",
    "              loss=tf.keras.losses.MeanSquaredError(),\n",
    "              metrics=[tf.keras.metrics.MeanAbsoluteError()])"
   ]
  },
  {
   "cell_type": "code",
   "execution_count": 36,
   "metadata": {},
   "outputs": [
    {
     "name": "stdout",
     "output_type": "stream",
     "text": [
      "Epoch 1/20\n",
      "83/83 [==============================] - 1s 4ms/step - loss: 0.2932 - mean_absolute_error: 0.4681 - val_loss: 0.2387 - val_mean_absolute_error: 0.4858\n",
      "Epoch 2/20\n",
      "83/83 [==============================] - 0s 2ms/step - loss: 0.2308 - mean_absolute_error: 0.4747 - val_loss: 0.2164 - val_mean_absolute_error: 0.4575\n",
      "Epoch 3/20\n",
      "83/83 [==============================] - 0s 2ms/step - loss: 0.1980 - mean_absolute_error: 0.4322 - val_loss: 0.1770 - val_mean_absolute_error: 0.3955\n",
      "Epoch 4/20\n",
      "83/83 [==============================] - 0s 2ms/step - loss: 0.1587 - mean_absolute_error: 0.3575 - val_loss: 0.1549 - val_mean_absolute_error: 0.3309\n",
      "Epoch 5/20\n",
      "83/83 [==============================] - 0s 2ms/step - loss: 0.1411 - mean_absolute_error: 0.3112 - val_loss: 0.1510 - val_mean_absolute_error: 0.3178\n",
      "Epoch 6/20\n",
      "83/83 [==============================] - 0s 2ms/step - loss: 0.1349 - mean_absolute_error: 0.2938 - val_loss: 0.1496 - val_mean_absolute_error: 0.3008\n",
      "Epoch 7/20\n",
      "83/83 [==============================] - 1s 10ms/step - loss: 0.1310 - mean_absolute_error: 0.2837 - val_loss: 0.1487 - val_mean_absolute_error: 0.3052\n",
      "Epoch 8/20\n",
      "83/83 [==============================] - 0s 3ms/step - loss: 0.1279 - mean_absolute_error: 0.2784 - val_loss: 0.1476 - val_mean_absolute_error: 0.2956\n",
      "Epoch 9/20\n",
      "83/83 [==============================] - 0s 3ms/step - loss: 0.1254 - mean_absolute_error: 0.2727 - val_loss: 0.1473 - val_mean_absolute_error: 0.2943\n",
      "Epoch 10/20\n",
      "83/83 [==============================] - 0s 2ms/step - loss: 0.1233 - mean_absolute_error: 0.2685 - val_loss: 0.1477 - val_mean_absolute_error: 0.2963\n",
      "Epoch 11/20\n",
      "83/83 [==============================] - 0s 2ms/step - loss: 0.1214 - mean_absolute_error: 0.2654 - val_loss: 0.1475 - val_mean_absolute_error: 0.2935\n",
      "Epoch 12/20\n",
      "83/83 [==============================] - 0s 3ms/step - loss: 0.1197 - mean_absolute_error: 0.2619 - val_loss: 0.1477 - val_mean_absolute_error: 0.2899\n",
      "Epoch 13/20\n",
      "83/83 [==============================] - 0s 2ms/step - loss: 0.1183 - mean_absolute_error: 0.2587 - val_loss: 0.1484 - val_mean_absolute_error: 0.2915\n",
      "Epoch 14/20\n",
      "83/83 [==============================] - 0s 2ms/step - loss: 0.1165 - mean_absolute_error: 0.2558 - val_loss: 0.1483 - val_mean_absolute_error: 0.2861\n",
      "Epoch 15/20\n",
      "83/83 [==============================] - 0s 2ms/step - loss: 0.1155 - mean_absolute_error: 0.2523 - val_loss: 0.1488 - val_mean_absolute_error: 0.2876\n",
      "Epoch 16/20\n",
      "83/83 [==============================] - 0s 2ms/step - loss: 0.1141 - mean_absolute_error: 0.2484 - val_loss: 0.1491 - val_mean_absolute_error: 0.2835\n",
      "Epoch 17/20\n",
      "83/83 [==============================] - 0s 2ms/step - loss: 0.1126 - mean_absolute_error: 0.2459 - val_loss: 0.1505 - val_mean_absolute_error: 0.2857\n",
      "Epoch 18/20\n",
      "83/83 [==============================] - 0s 3ms/step - loss: 0.1119 - mean_absolute_error: 0.2437 - val_loss: 0.1501 - val_mean_absolute_error: 0.2814\n",
      "Epoch 19/20\n",
      "83/83 [==============================] - 0s 3ms/step - loss: 0.1102 - mean_absolute_error: 0.2401 - val_loss: 0.1508 - val_mean_absolute_error: 0.2781\n",
      "Epoch 20/20\n",
      "83/83 [==============================] - 0s 3ms/step - loss: 0.1094 - mean_absolute_error: 0.2372 - val_loss: 0.1512 - val_mean_absolute_error: 0.2770\n"
     ]
    }
   ],
   "source": [
    "history = model.fit(train_batch, \n",
    "                    epochs=20, \n",
    "                    validation_data=val_batch)"
   ]
  },
  {
   "cell_type": "code",
   "execution_count": 37,
   "metadata": {},
   "outputs": [
    {
     "data": {
      "image/png": "[encoded data removed]",
      "text/plain": [
       "<Figure size 640x480 with 1 Axes>"
      ]
     },
     "metadata": {},
     "output_type": "display_data"
    }
   ],
   "source": [
    "# Visualization of the training process on the loss function \n",
    "plt.plot(history.history[\"loss\"], color=\"b\")\n",
    "plt.plot(history.history[\"val_loss\"], color=\"r\")\n",
    "plt.ylabel(\"loss\")\n",
    "plt.xlabel(\"Epochs\")\n",
    "plt.show()"
   ]
  },
  {
   "cell_type": "code",
   "execution_count": 38,
   "metadata": {},
   "outputs": [
    {
     "data": {
      "image/png": "[encoded data removed]",
      "text/plain": [
       "<Figure size 640x480 with 1 Axes>"
      ]
     },
     "metadata": {},
     "output_type": "display_data"
    }
   ],
   "source": [
    "# Visualization of accuracy training \n",
    "plt.plot(history.history[\"mean_absolute_error\"], color=\"b\")\n",
    "plt.plot(history.history[\"val_mean_absolute_error\"], color=\"r\")\n",
    "plt.ylabel(\"mean_absolute_error\")\n",
    "plt.xlabel(\"Epochs\")\n",
    "plt.show()"
   ]
  },
  {
   "cell_type": "code",
   "execution_count": null,
   "metadata": {},
   "outputs": [],
   "source": []
  },
  {
   "cell_type": "code",
   "execution_count": null,
   "metadata": {},
   "outputs": [],
   "source": []
  }
 ],
 "metadata": {
  "kernelspec": {
   "display_name": "Python 3.9.5 64-bit",
   "language": "python",
   "name": "python3"
  },
  "language_info": {
   "codemirror_mode": {
    "name": "ipython",
    "version": 3
   },
   "file_extension": ".py",
   "mimetype": "text/x-python",
   "name": "python",
   "nbconvert_exporter": "python",
   "pygments_lexer": "ipython3",
   "version": "3.9.5"
  },
  "orig_nbformat": 4,
  "vscode": {
   "interpreter": {
    "hash": "7812ea015bdcee6f23a998adcdd2ef97c151c0c241b7b7070987d9313e41299d"
   }
  }
 },
 "nbformat": 4,
 "nbformat_minor": 2
}
